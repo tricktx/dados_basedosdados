{
 "cells": [
  {
   "cell_type": "code",
   "execution_count": 36,
   "metadata": {},
   "outputs": [],
   "source": [
    "import pandas as pd\n",
    "import os\n",
    "import requests\n",
    "import io\n",
    "from urllib.request import urlopen\n",
    "import zipfile\n",
    "import warnings\n",
    "import unidecode\n",
    "from pathlib import Path\n",
    "from typing import Any, Dict, List, Optional, Tuple, Union\n",
    "from urllib.request import urlopen\n",
    "import zipfile\n",
    "import difflib\n",
    "import basedosdados as bd\n",
    "\n",
    "warnings.filterwarnings(\"ignore\")"
   ]
  },
  {
   "cell_type": "code",
   "execution_count": 4,
   "metadata": {},
   "outputs": [],
   "source": [
    "for url in range(2014, 2025):\n",
    "    url = f\"https://portaldatransparencia.gov.br/download-de-dados/orcamento-despesa/{url}\"\n",
    "    if requests.get(url).status_code == 200:\n",
    "\n",
    "        r = urlopen(url)\n",
    "        z = zipfile.ZipFile(io.BytesIO(r.read()))\n",
    "        z.extractall(\"/home/tricktx/dados/br_cgu_orcamento_publico\")"
   ]
  },
  {
   "cell_type": "code",
   "execution_count": 37,
   "metadata": {},
   "outputs": [],
   "source": [
    "def to_partitions(\n",
    "    data: pd.DataFrame,\n",
    "    partition_columns: List[str],\n",
    "    savepath: str,\n",
    "    file_type: str = \"csv\",\n",
    "):\n",
    "    \"\"\"Save data in to hive patitions schema, given a dataframe and a list of partition columns.\n",
    "    Args:\n",
    "        data (pandas.core.frame.DataFrame): Dataframe to be partitioned.\n",
    "        partition_columns (list): List of columns to be used as partitions.\n",
    "        savepath (str, pathlib.PosixPath): folder path to save the partitions.\n",
    "        file_type (str): default to csv. Accepts parquet.\n",
    "    Exemple:\n",
    "        data = {\n",
    "            \"ano\": [2020, 2021, 2020, 2021, 2020, 2021, 2021,2025],\n",
    "            \"mes\": [1, 2, 3, 4, 5, 6, 6,9],\n",
    "            \"sigla_uf\": [\"SP\", \"SP\", \"RJ\", \"RJ\", \"PR\", \"PR\", \"PR\",\"PR\"],\n",
    "            \"dado\": [\"a\", \"b\", \"c\", \"d\", \"e\", \"f\", \"g\",'h'],\n",
    "        }\n",
    "        to_partitions(\n",
    "            data=pd.DataFrame(data),\n",
    "            partition_columns=['ano','mes','sigla_uf'],\n",
    "            savepath='partitions/',\n",
    "        )\n",
    "    \"\"\"\n",
    "\n",
    "    if isinstance(data, (pd.core.frame.DataFrame)):\n",
    "        savepath = Path(savepath)\n",
    "        # create unique combinations between partition columns\n",
    "        unique_combinations = (\n",
    "            data[partition_columns]\n",
    "            # .astype(str)\n",
    "            .drop_duplicates(subset=partition_columns).to_dict(orient=\"records\")\n",
    "        )\n",
    "\n",
    "        for filter_combination in unique_combinations:\n",
    "            patitions_values = [\n",
    "                f\"{partition}={value}\"\n",
    "                for partition, value in filter_combination.items()\n",
    "            ]\n",
    "\n",
    "            # get filtered data\n",
    "            df_filter = data.loc[\n",
    "                data[filter_combination.keys()]\n",
    "                .isin(filter_combination.values())\n",
    "                .all(axis=1),\n",
    "                :,\n",
    "            ]\n",
    "            df_filter = df_filter.drop(columns=partition_columns)\n",
    "\n",
    "            # create folder tree\n",
    "            filter_save_path = Path(savepath / \"/\".join(patitions_values))\n",
    "            filter_save_path.mkdir(parents=True, exist_ok=True)\n",
    "\n",
    "            if file_type == \"csv\":\n",
    "                # append data to csv\n",
    "                file_filter_save_path = Path(filter_save_path) / \"data.csv\"\n",
    "                df_filter.to_csv(\n",
    "                    file_filter_save_path,\n",
    "                    sep=\",\",\n",
    "                    encoding=\"utf-8\",\n",
    "                    na_rep=\"\",\n",
    "                    index=False,\n",
    "                    mode=\"a\",\n",
    "                    header=not file_filter_save_path.exists(),\n",
    "                )\n",
    "            elif file_type == \"parquet\":\n",
    "                # append data to parquet\n",
    "                file_filter_save_path = Path(filter_save_path) / \"data.parquet\"\n",
    "                df_filter.to_parquet(\n",
    "                    file_filter_save_path, index=False, compression=\"gzip\"\n",
    "                )\n",
    "    else:\n",
    "        raise BaseException(\"Data need to be a pandas DataFrame\")"
   ]
  },
  {
   "cell_type": "code",
   "execution_count": 38,
   "metadata": {},
   "outputs": [
    {
     "name": "stdout",
     "output_type": "stream",
     "text": [
      "/home/tricktx/dados_basedosdados/br_cgu_orcamento_publico/2014_OrcamentoDespesa.csv\n",
      "Index(['ano_exercicio', 'codigo_orgao_superior', 'nome_orgao_superior',\n",
      "       'codigo_orgao_subordinado', 'nome_orgao_subordinado',\n",
      "       'codigo_unidade_orcamentaria', 'nome_unidade_orcamentaria',\n",
      "       'codigo_funcao', 'nome_funcao', 'codigo_subfuncao', 'nome_subfuncao',\n",
      "       'codigo_programa_orcamentario', 'nome_programa_orcamentario',\n",
      "       'codigo_acao', 'nome_acao', 'codigo_categoria_economica',\n",
      "       'nome_categoria_economica', 'codigo_grupo_de_despesa',\n",
      "       'nome_grupo_de_despesa', 'codigo_elemento_de_despesa',\n",
      "       'nome_elemento_de_despesa', 'orcamento_inicial', 'orcamento_atualizado',\n",
      "       'orcamento_empenhado', 'orcamento_realizado',\n",
      "       'porcentagem_realizado_orcamento'],\n",
      "      dtype='object')\n"
     ]
    },
    {
     "ename": "ModuleNotFoundError",
     "evalue": "No module named 'pandas.core.methods.to_dict'",
     "output_type": "error",
     "traceback": [
      "\u001b[0;31m---------------------------------------------------------------------------\u001b[0m",
      "\u001b[0;31mModuleNotFoundError\u001b[0m                       Traceback (most recent call last)",
      "\u001b[0;32m/tmp/ipykernel_21269/4110981066.py\u001b[0m in \u001b[0;36m?\u001b[0;34m()\u001b[0m\n\u001b[1;32m     25\u001b[0m     \u001b[0;32mfor\u001b[0m \u001b[0mx\u001b[0m \u001b[0;32min\u001b[0m \u001b[0mvalores\u001b[0m\u001b[0;34m:\u001b[0m\u001b[0;34m\u001b[0m\u001b[0;34m\u001b[0m\u001b[0m\n\u001b[1;32m     26\u001b[0m         \u001b[0mdf\u001b[0m\u001b[0;34m[\u001b[0m\u001b[0mx\u001b[0m\u001b[0;34m]\u001b[0m \u001b[0;34m=\u001b[0m \u001b[0mdf\u001b[0m\u001b[0;34m[\u001b[0m\u001b[0mx\u001b[0m\u001b[0;34m]\u001b[0m\u001b[0;34m.\u001b[0m\u001b[0mstr\u001b[0m\u001b[0;34m.\u001b[0m\u001b[0mreplace\u001b[0m\u001b[0;34m(\u001b[0m\u001b[0;34m\",\"\u001b[0m\u001b[0;34m,\u001b[0m \u001b[0;34m\".\"\u001b[0m\u001b[0;34m)\u001b[0m\u001b[0;34m.\u001b[0m\u001b[0mastype\u001b[0m\u001b[0;34m(\u001b[0m\u001b[0mfloat\u001b[0m\u001b[0;34m)\u001b[0m\u001b[0;34m\u001b[0m\u001b[0;34m\u001b[0m\u001b[0m\n\u001b[1;32m     27\u001b[0m     \u001b[0mdf\u001b[0m\u001b[0;34m.\u001b[0m\u001b[0mrename\u001b[0m\u001b[0;34m(\u001b[0m\u001b[0mcolumns\u001b[0m\u001b[0;34m=\u001b[0m\u001b[0;32mlambda\u001b[0m \u001b[0mx\u001b[0m\u001b[0;34m:\u001b[0m \u001b[0mx\u001b[0m\u001b[0;34m.\u001b[0m\u001b[0mreplace\u001b[0m\u001b[0;34m(\u001b[0m\u001b[0;34m\"_(r$)\"\u001b[0m\u001b[0;34m,\u001b[0m \u001b[0;34m\"\"\u001b[0m\u001b[0;34m)\u001b[0m\u001b[0;34m,\u001b[0m \u001b[0minplace\u001b[0m\u001b[0;34m=\u001b[0m\u001b[0;32mTrue\u001b[0m\u001b[0;34m)\u001b[0m\u001b[0;34m\u001b[0m\u001b[0;34m\u001b[0m\u001b[0m\n\u001b[1;32m     28\u001b[0m     \u001b[0mprint\u001b[0m\u001b[0;34m(\u001b[0m\u001b[0mdf\u001b[0m\u001b[0;34m.\u001b[0m\u001b[0mcolumns\u001b[0m\u001b[0;34m)\u001b[0m\u001b[0;34m\u001b[0m\u001b[0;34m\u001b[0m\u001b[0m\n\u001b[0;32m---> 29\u001b[0;31m     to_partitions(\n\u001b[0m\u001b[1;32m     30\u001b[0m         \u001b[0mdata\u001b[0m\u001b[0;34m=\u001b[0m\u001b[0mdf\u001b[0m\u001b[0;34m,\u001b[0m\u001b[0;34m\u001b[0m\u001b[0;34m\u001b[0m\u001b[0m\n\u001b[1;32m     31\u001b[0m         \u001b[0mpartition_columns\u001b[0m\u001b[0;34m=\u001b[0m\u001b[0;34m[\u001b[0m\u001b[0;34m\"ano_exercicio\"\u001b[0m\u001b[0;34m]\u001b[0m\u001b[0;34m,\u001b[0m\u001b[0;34m\u001b[0m\u001b[0;34m\u001b[0m\u001b[0m\n\u001b[1;32m     32\u001b[0m         \u001b[0msavepath\u001b[0m\u001b[0;34m=\u001b[0m\u001b[0;34m\"/home/tricktx/dados/br_cgu_orcamento_publico/partitions/\"\u001b[0m\u001b[0;34m,\u001b[0m\u001b[0;34m\u001b[0m\u001b[0;34m\u001b[0m\u001b[0m\n",
      "\u001b[0;32m/tmp/ipykernel_21269/259360868.py\u001b[0m in \u001b[0;36m?\u001b[0;34m(data, partition_columns, savepath, file_type)\u001b[0m\n\u001b[1;32m     27\u001b[0m     \u001b[0;32mif\u001b[0m \u001b[0misinstance\u001b[0m\u001b[0;34m(\u001b[0m\u001b[0mdata\u001b[0m\u001b[0;34m,\u001b[0m \u001b[0;34m(\u001b[0m\u001b[0mpd\u001b[0m\u001b[0;34m.\u001b[0m\u001b[0mcore\u001b[0m\u001b[0;34m.\u001b[0m\u001b[0mframe\u001b[0m\u001b[0;34m.\u001b[0m\u001b[0mDataFrame\u001b[0m\u001b[0;34m)\u001b[0m\u001b[0;34m)\u001b[0m\u001b[0;34m:\u001b[0m\u001b[0;34m\u001b[0m\u001b[0;34m\u001b[0m\u001b[0m\n\u001b[1;32m     28\u001b[0m         \u001b[0msavepath\u001b[0m \u001b[0;34m=\u001b[0m \u001b[0mPath\u001b[0m\u001b[0;34m(\u001b[0m\u001b[0msavepath\u001b[0m\u001b[0;34m)\u001b[0m\u001b[0;34m\u001b[0m\u001b[0;34m\u001b[0m\u001b[0m\n\u001b[1;32m     29\u001b[0m         \u001b[0;31m# create unique combinations between partition columns\u001b[0m\u001b[0;34m\u001b[0m\u001b[0;34m\u001b[0m\u001b[0m\n\u001b[1;32m     30\u001b[0m         unique_combinations = (\n\u001b[0;32m---> 31\u001b[0;31m             \u001b[0mdata\u001b[0m\u001b[0;34m[\u001b[0m\u001b[0mpartition_columns\u001b[0m\u001b[0;34m]\u001b[0m\u001b[0;34m\u001b[0m\u001b[0;34m\u001b[0m\u001b[0m\n\u001b[0m\u001b[1;32m     32\u001b[0m             \u001b[0;31m# .astype(str)\u001b[0m\u001b[0;34m\u001b[0m\u001b[0;34m\u001b[0m\u001b[0m\n\u001b[1;32m     33\u001b[0m             \u001b[0;34m.\u001b[0m\u001b[0mdrop_duplicates\u001b[0m\u001b[0;34m(\u001b[0m\u001b[0msubset\u001b[0m\u001b[0;34m=\u001b[0m\u001b[0mpartition_columns\u001b[0m\u001b[0;34m)\u001b[0m\u001b[0;34m.\u001b[0m\u001b[0mto_dict\u001b[0m\u001b[0;34m(\u001b[0m\u001b[0morient\u001b[0m\u001b[0;34m=\u001b[0m\u001b[0;34m\"records\"\u001b[0m\u001b[0;34m)\u001b[0m\u001b[0;34m\u001b[0m\u001b[0;34m\u001b[0m\u001b[0m\n\u001b[1;32m     34\u001b[0m         )\n",
      "\u001b[0;32m~/.local/lib/python3.10/site-packages/pandas/util/_decorators.py\u001b[0m in \u001b[0;36m?\u001b[0;34m(*args, **kwargs)\u001b[0m\n\u001b[1;32m    329\u001b[0m                     \u001b[0mFutureWarning\u001b[0m\u001b[0;34m,\u001b[0m\u001b[0;34m\u001b[0m\u001b[0;34m\u001b[0m\u001b[0m\n\u001b[1;32m    330\u001b[0m                     \u001b[0mstacklevel\u001b[0m\u001b[0;34m=\u001b[0m\u001b[0mfind_stack_level\u001b[0m\u001b[0;34m(\u001b[0m\u001b[0;34m)\u001b[0m\u001b[0;34m,\u001b[0m\u001b[0;34m\u001b[0m\u001b[0;34m\u001b[0m\u001b[0m\n\u001b[1;32m    331\u001b[0m                 )\n\u001b[1;32m    332\u001b[0m             \u001b[0;32mreturn\u001b[0m \u001b[0mfunc\u001b[0m\u001b[0;34m(\u001b[0m\u001b[0;34m*\u001b[0m\u001b[0margs\u001b[0m\u001b[0;34m,\u001b[0m \u001b[0;34m**\u001b[0m\u001b[0mkwargs\u001b[0m\u001b[0;34m)\u001b[0m\u001b[0;34m\u001b[0m\u001b[0;34m\u001b[0m\u001b[0m\n",
      "\u001b[0;32m~/.local/lib/python3.10/site-packages/pandas/core/frame.py\u001b[0m in \u001b[0;36m?\u001b[0;34m(self, orient, into, index)\u001b[0m\n\u001b[1;32m   2172\u001b[0m         \u001b[0;31m# GH16122\u001b[0m\u001b[0;34m\u001b[0m\u001b[0;34m\u001b[0m\u001b[0m\n\u001b[1;32m   2173\u001b[0m         \u001b[0minto_c\u001b[0m \u001b[0;34m=\u001b[0m \u001b[0mcom\u001b[0m\u001b[0;34m.\u001b[0m\u001b[0mstandardize_mapping\u001b[0m\u001b[0;34m(\u001b[0m\u001b[0minto\u001b[0m\u001b[0;34m)\u001b[0m\u001b[0;34m\u001b[0m\u001b[0;34m\u001b[0m\u001b[0m\n\u001b[1;32m   2174\u001b[0m \u001b[0;34m\u001b[0m\u001b[0m\n\u001b[1;32m   2175\u001b[0m         \u001b[0;31m#  error: Incompatible types in assignment (expression has type \"str\",\u001b[0m\u001b[0;34m\u001b[0m\u001b[0;34m\u001b[0m\u001b[0m\n\u001b[0;32m-> 2176\u001b[0;31m         \u001b[0;31m# variable has type \"Literal['dict', 'list', 'series', 'split', 'tight',\u001b[0m\u001b[0;34m\u001b[0m\u001b[0;34m\u001b[0m\u001b[0m\n\u001b[0m\u001b[1;32m   2177\u001b[0m         \u001b[0;31m# 'records', 'index']\")\u001b[0m\u001b[0;34m\u001b[0m\u001b[0;34m\u001b[0m\u001b[0m\n\u001b[1;32m   2178\u001b[0m         \u001b[0morient\u001b[0m \u001b[0;34m=\u001b[0m \u001b[0morient\u001b[0m\u001b[0;34m.\u001b[0m\u001b[0mlower\u001b[0m\u001b[0;34m(\u001b[0m\u001b[0;34m)\u001b[0m  \u001b[0;31m# type: ignore[assignment]\u001b[0m\u001b[0;34m\u001b[0m\u001b[0;34m\u001b[0m\u001b[0m\n\u001b[1;32m   2179\u001b[0m         \u001b[0;31m# GH32515\u001b[0m\u001b[0;34m\u001b[0m\u001b[0;34m\u001b[0m\u001b[0m\n",
      "\u001b[0;31mModuleNotFoundError\u001b[0m: No module named 'pandas.core.methods.to_dict'"
     ]
    }
   ],
   "source": [
    "for path in range(2014, 2025):\n",
    "    path = f\"/home/tricktx/dados_basedosdados/br_cgu_orcamento_publico/{path}_OrcamentoDespesa.csv\"\n",
    "    print(path)\n",
    "    df = pd.read_csv(\n",
    "        path,\n",
    "        sep=\";\",\n",
    "        encoding=\"latin1\",\n",
    "    )\n",
    "\n",
    "    df.columns = [unidecode.unidecode(col) for col in df.columns]\n",
    "    df.columns = [col.replace(\" \", \"_\").lower() for col in df.columns]\n",
    "    df.columns = [col.replace(\"exercicio\", \"ano_exercicio\") for col in df.columns]\n",
    "    df.columns = [col.replace(\"%_realizado_do_orcamento_(com_relacao_ao_orcamento_atualizado)\", \"porcentagem_realizado_orcamento\") for col in df.columns]\n",
    "    df['porcentagem_realizado_orcamento'] = df['porcentagem_realizado_orcamento'].str.replace(\"%\", \"\")\n",
    "\n",
    "    valores = [\n",
    "        \"orcamento_inicial_(r$)\",\n",
    "        \"orcamento_atualizado_(r$)\",\n",
    "        \"orcamento_empenhado_(r$)\",\n",
    "        \"orcamento_realizado_(r$)\",\n",
    "        \"porcentagem_realizado_orcamento\"\n",
    "    ]\n",
    "\n",
    "\n",
    "    for x in valores:\n",
    "        df[x] = df[x].str.replace(\",\", \".\").astype(float)\n",
    "    df.rename(columns=lambda x: x.replace(\"_(r$)\", \"\"), inplace=True)\n",
    "    print(df.columns)\n",
    "    to_partitions(\n",
    "        data=df,\n",
    "        partition_columns=[\"ano_exercicio\"],\n",
    "        savepath=\"/home/tricktx/dados/br_cgu_orcamento_publico/partitions/\",\n",
    "    )"
   ]
  },
  {
   "cell_type": "code",
   "execution_count": 8,
   "metadata": {},
   "outputs": [],
   "source": [
    "df.columns = [unidecode.unidecode(col) for col in df.columns]\n",
    "df.columns = [col.replace(\" \", \"_\").lower() for col in df.columns]"
   ]
  },
  {
   "cell_type": "code",
   "execution_count": 13,
   "metadata": {},
   "outputs": [],
   "source": [
    "df = pd.read_csv(\n",
    "    \"/home/tricktx/dados_basedosdados/br_cgu_orcamento_publico/2023_OrcamentoDespesa.csv\",\n",
    "    sep=\";\",\n",
    "    encoding=\"latin1\",\n",
    ")\n",
    "\n",
    "df.columns = [unidecode.unidecode(col) for col in df.columns]\n",
    "df.columns = [col.replace(\" \", \"_\").lower() for col in df.columns]\n",
    "\n",
    "df.columns = [col.replace(\"%_realizado_do_orcamento_(com_relacao_ao_orcamento_atualizado)\", \"porcentagem_realizado_orcamento\") for col in df.columns]\n",
    "df['porcentagem_realizado_orcamento'] = df['porcentagem_realizado_orcamento'].str.replace(\"%\", \"\")\n",
    "\n",
    "valores = [\n",
    "    \"orcamento_inicial_(r$)\",\n",
    "    \"orcamento_atualizado_(r$)\",\n",
    "    \"orcamento_empenhado_(r$)\",\n",
    "    \"orcamento_realizado_(r$)\",\n",
    "    \"porcentagem_realizado_orcamento\"\n",
    "]\n",
    "\n",
    "\n",
    "for x in valores:\n",
    "    df[x] = df[x].str.replace(\",\", \".\").astype(float)\n",
    "df.rename(columns=lambda x: x.replace(\"_(r$)\", \"\"), inplace=True)"
   ]
  },
  {
   "cell_type": "code",
   "execution_count": 29,
   "metadata": {},
   "outputs": [],
   "source": [
    "df = pd.read_csv(\n",
    "    \"/home/tricktx/dados_basedosdados/br_cgu_orcamento_publico/2023_OrcamentoDespesa.csv\",\n",
    "    sep=\";\",\n",
    "    encoding=\"latin1\",\n",
    ")\n",
    "\n",
    "df.columns = [unidecode.unidecode(col) for col in df.columns]\n",
    "df.columns = [col.replace(\" \", \"_\").lower() for col in df.columns]"
   ]
  },
  {
   "cell_type": "code",
   "execution_count": 31,
   "metadata": {},
   "outputs": [],
   "source": [
    "df.columns = [col.replace(\"exercicio\", \"ano_exercicio\") for col in df.columns]"
   ]
  },
  {
   "cell_type": "code",
   "execution_count": 35,
   "metadata": {},
   "outputs": [
    {
     "data": {
      "text/plain": [
       "ano_exercicio\n",
       "2014    28641\n",
       "Name: count, dtype: int64"
      ]
     },
     "execution_count": 35,
     "metadata": {},
     "output_type": "execute_result"
    }
   ],
   "source": [
    "df['ano_exercicio'].value_counts()"
   ]
  }
 ],
 "metadata": {
  "kernelspec": {
   "display_name": "Python 3",
   "language": "python",
   "name": "python3"
  },
  "language_info": {
   "codemirror_mode": {
    "name": "ipython",
    "version": 3
   },
   "file_extension": ".py",
   "mimetype": "text/x-python",
   "name": "python",
   "nbconvert_exporter": "python",
   "pygments_lexer": "ipython3",
   "version": "3.10.12"
  }
 },
 "nbformat": 4,
 "nbformat_minor": 2
}
